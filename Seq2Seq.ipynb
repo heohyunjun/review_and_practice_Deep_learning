{
  "nbformat": 4,
  "nbformat_minor": 0,
  "metadata": {
    "colab": {
      "name": "Untitled0.ipynb",
      "provenance": [],
      "authorship_tag": "ABX9TyMD/W9+DHnrMtTIJtSKmkPl"
    },
    "kernelspec": {
      "name": "python3",
      "display_name": "Python 3"
    },
    "language_info": {
      "name": "python"
    },
    "accelerator": "GPU",
    "gpuClass": "standard"
  },
  "cells": [
    {
      "cell_type": "markdown",
      "source": [
        "# 전처리"
      ],
      "metadata": {
        "id": "PFtLrdKVHdeP"
      }
    },
    {
      "cell_type": "code",
      "source": [
        "nums =[1,2,3,4,5,6]\n",
        "print(nums[::2])"
      ],
      "metadata": {
        "id": "LKceclDWA2T-",
        "outputId": "15a20849-c2f8-4e2f-cbc7-83182783b0de",
        "colab": {
          "base_uri": "https://localhost:8080/"
        }
      },
      "execution_count": null,
      "outputs": [
        {
          "output_type": "stream",
          "name": "stdout",
          "text": [
            "[1, 3, 5]\n"
          ]
        }
      ]
    },
    {
      "cell_type": "code",
      "source": [
        "!pip install -U spacy==2.1.3\n",
        "!pip install -U torchtext==0.10.0"
      ],
      "metadata": {
        "colab": {
          "base_uri": "https://localhost:8080/"
        },
        "id": "n73pWWPJK1zC",
        "outputId": "521b3111-8e8f-4089-c9cb-0dd6af85cb8d"
      },
      "execution_count": null,
      "outputs": [
        {
          "output_type": "stream",
          "name": "stdout",
          "text": [
            "Looking in indexes: https://pypi.org/simple, https://us-python.pkg.dev/colab-wheels/public/simple/\n",
            "Collecting spacy==2.1.3\n",
            "  Downloading spacy-2.1.3-cp37-cp37m-manylinux1_x86_64.whl (27.7 MB)\n",
            "\u001b[K     |████████████████████████████████| 27.7 MB 1.2 MB/s \n",
            "\u001b[?25hCollecting srsly<1.1.0,>=0.0.5\n",
            "  Downloading srsly-1.0.5-cp37-cp37m-manylinux2014_x86_64.whl (184 kB)\n",
            "\u001b[K     |████████████████████████████████| 184 kB 66.5 MB/s \n",
            "\u001b[?25hCollecting blis<0.3.0,>=0.2.2\n",
            "  Downloading blis-0.2.4-cp37-cp37m-manylinux1_x86_64.whl (3.2 MB)\n",
            "\u001b[K     |████████████████████████████████| 3.2 MB 37.0 MB/s \n",
            "\u001b[?25hCollecting thinc<7.1.0,>=7.0.2\n",
            "  Downloading thinc-7.0.8-cp37-cp37m-manylinux1_x86_64.whl (2.1 MB)\n",
            "\u001b[K     |████████████████████████████████| 2.1 MB 60.3 MB/s \n",
            "\u001b[?25hCollecting plac<1.0.0,>=0.9.6\n",
            "  Downloading plac-0.9.6-py2.py3-none-any.whl (20 kB)\n",
            "Collecting jsonschema<3.0.0,>=2.6.0\n",
            "  Downloading jsonschema-2.6.0-py2.py3-none-any.whl (39 kB)\n",
            "Collecting preshed<2.1.0,>=2.0.1\n",
            "  Downloading preshed-2.0.1-cp37-cp37m-manylinux1_x86_64.whl (82 kB)\n",
            "\u001b[K     |████████████████████████████████| 82 kB 564 kB/s \n",
            "\u001b[?25hRequirement already satisfied: cymem<2.1.0,>=2.0.2 in /usr/local/lib/python3.7/dist-packages (from spacy==2.1.3) (2.0.6)\n",
            "Requirement already satisfied: requests<3.0.0,>=2.13.0 in /usr/local/lib/python3.7/dist-packages (from spacy==2.1.3) (2.23.0)\n",
            "Requirement already satisfied: murmurhash<1.1.0,>=0.28.0 in /usr/local/lib/python3.7/dist-packages (from spacy==2.1.3) (1.0.7)\n",
            "Requirement already satisfied: wasabi<1.1.0,>=0.2.0 in /usr/local/lib/python3.7/dist-packages (from spacy==2.1.3) (0.9.1)\n",
            "Requirement already satisfied: numpy>=1.15.0 in /usr/local/lib/python3.7/dist-packages (from spacy==2.1.3) (1.21.6)\n",
            "Requirement already satisfied: idna<3,>=2.5 in /usr/local/lib/python3.7/dist-packages (from requests<3.0.0,>=2.13.0->spacy==2.1.3) (2.10)\n",
            "Requirement already satisfied: chardet<4,>=3.0.2 in /usr/local/lib/python3.7/dist-packages (from requests<3.0.0,>=2.13.0->spacy==2.1.3) (3.0.4)\n",
            "Requirement already satisfied: urllib3!=1.25.0,!=1.25.1,<1.26,>=1.21.1 in /usr/local/lib/python3.7/dist-packages (from requests<3.0.0,>=2.13.0->spacy==2.1.3) (1.24.3)\n",
            "Requirement already satisfied: certifi>=2017.4.17 in /usr/local/lib/python3.7/dist-packages (from requests<3.0.0,>=2.13.0->spacy==2.1.3) (2022.6.15)\n",
            "Requirement already satisfied: tqdm<5.0.0,>=4.10.0 in /usr/local/lib/python3.7/dist-packages (from thinc<7.1.0,>=7.0.2->spacy==2.1.3) (4.64.0)\n",
            "Installing collected packages: srsly, preshed, plac, blis, thinc, jsonschema, spacy\n",
            "  Attempting uninstall: srsly\n",
            "    Found existing installation: srsly 2.4.4\n",
            "    Uninstalling srsly-2.4.4:\n",
            "      Successfully uninstalled srsly-2.4.4\n",
            "  Attempting uninstall: preshed\n",
            "    Found existing installation: preshed 3.0.6\n",
            "    Uninstalling preshed-3.0.6:\n",
            "      Successfully uninstalled preshed-3.0.6\n",
            "  Attempting uninstall: blis\n",
            "    Found existing installation: blis 0.7.8\n",
            "    Uninstalling blis-0.7.8:\n",
            "      Successfully uninstalled blis-0.7.8\n",
            "  Attempting uninstall: thinc\n",
            "    Found existing installation: thinc 8.1.0\n",
            "    Uninstalling thinc-8.1.0:\n",
            "      Successfully uninstalled thinc-8.1.0\n",
            "  Attempting uninstall: jsonschema\n",
            "    Found existing installation: jsonschema 4.3.3\n",
            "    Uninstalling jsonschema-4.3.3:\n",
            "      Successfully uninstalled jsonschema-4.3.3\n",
            "  Attempting uninstall: spacy\n",
            "    Found existing installation: spacy 3.4.1\n",
            "    Uninstalling spacy-3.4.1:\n",
            "      Successfully uninstalled spacy-3.4.1\n",
            "\u001b[31mERROR: pip's dependency resolver does not currently take into account all the packages that are installed. This behaviour is the source of the following dependency conflicts.\n",
            "nbclient 0.6.6 requires jupyter-client>=6.1.5, but you have jupyter-client 5.3.5 which is incompatible.\n",
            "nbclient 0.6.6 requires traitlets>=5.2.2, but you have traitlets 5.1.1 which is incompatible.\n",
            "en-core-web-sm 3.4.0 requires spacy<3.5.0,>=3.4.0, but you have spacy 2.1.3 which is incompatible.\n",
            "altair 4.2.0 requires jsonschema>=3.0, but you have jsonschema 2.6.0 which is incompatible.\u001b[0m\n",
            "Successfully installed blis-0.2.4 jsonschema-2.6.0 plac-0.9.6 preshed-2.0.1 spacy-2.1.3 srsly-1.0.5 thinc-7.0.8\n",
            "Looking in indexes: https://pypi.org/simple, https://us-python.pkg.dev/colab-wheels/public/simple/\n",
            "Collecting torchtext==0.10.0\n",
            "  Downloading torchtext-0.10.0-cp37-cp37m-manylinux1_x86_64.whl (7.6 MB)\n",
            "\u001b[K     |████████████████████████████████| 7.6 MB 23.5 MB/s \n",
            "\u001b[?25hRequirement already satisfied: numpy in /usr/local/lib/python3.7/dist-packages (from torchtext==0.10.0) (1.21.6)\n",
            "Requirement already satisfied: tqdm in /usr/local/lib/python3.7/dist-packages (from torchtext==0.10.0) (4.64.0)\n",
            "Collecting torch==1.9.0\n",
            "  Downloading torch-1.9.0-cp37-cp37m-manylinux1_x86_64.whl (831.4 MB)\n",
            "\u001b[K     |████████████████████████████████| 831.4 MB 2.7 kB/s \n",
            "\u001b[?25hRequirement already satisfied: requests in /usr/local/lib/python3.7/dist-packages (from torchtext==0.10.0) (2.23.0)\n",
            "Requirement already satisfied: typing-extensions in /usr/local/lib/python3.7/dist-packages (from torch==1.9.0->torchtext==0.10.0) (4.1.1)\n",
            "Requirement already satisfied: idna<3,>=2.5 in /usr/local/lib/python3.7/dist-packages (from requests->torchtext==0.10.0) (2.10)\n",
            "Requirement already satisfied: certifi>=2017.4.17 in /usr/local/lib/python3.7/dist-packages (from requests->torchtext==0.10.0) (2022.6.15)\n",
            "Requirement already satisfied: urllib3!=1.25.0,!=1.25.1,<1.26,>=1.21.1 in /usr/local/lib/python3.7/dist-packages (from requests->torchtext==0.10.0) (1.24.3)\n",
            "Requirement already satisfied: chardet<4,>=3.0.2 in /usr/local/lib/python3.7/dist-packages (from requests->torchtext==0.10.0) (3.0.4)\n",
            "Installing collected packages: torch, torchtext\n",
            "  Attempting uninstall: torch\n",
            "    Found existing installation: torch 1.12.0+cu113\n",
            "    Uninstalling torch-1.12.0+cu113:\n",
            "      Successfully uninstalled torch-1.12.0+cu113\n",
            "  Attempting uninstall: torchtext\n",
            "    Found existing installation: torchtext 0.13.0\n",
            "    Uninstalling torchtext-0.13.0:\n",
            "      Successfully uninstalled torchtext-0.13.0\n",
            "\u001b[31mERROR: pip's dependency resolver does not currently take into account all the packages that are installed. This behaviour is the source of the following dependency conflicts.\n",
            "torchvision 0.13.0+cu113 requires torch==1.12.0, but you have torch 1.9.0 which is incompatible.\n",
            "torchaudio 0.12.0+cu113 requires torch==1.12.0, but you have torch 1.9.0 which is incompatible.\u001b[0m\n",
            "Successfully installed torch-1.9.0 torchtext-0.10.0\n"
          ]
        }
      ]
    },
    {
      "cell_type": "code",
      "execution_count": null,
      "metadata": {
        "id": "NTdt6nMhHSis"
      },
      "outputs": [],
      "source": [
        "%%capture\n",
        "!python -m spacy download en\n",
        "!python -m spacy download de"
      ]
    },
    {
      "cell_type": "code",
      "source": [
        "import spacy"
      ],
      "metadata": {
        "id": "B6SANb5ZHkSj"
      },
      "execution_count": null,
      "outputs": []
    },
    {
      "cell_type": "code",
      "source": [
        "spacy.load?"
      ],
      "metadata": {
        "id": "rIebzdTjAs-P"
      },
      "execution_count": null,
      "outputs": []
    },
    {
      "cell_type": "code",
      "source": [
        "# 토크나이저 초기화\n",
        "spacy_en = spacy.load('en')\n",
        "spacy_de = spacy.load('de')"
      ],
      "metadata": {
        "id": "VA_0njIuHlzJ"
      },
      "execution_count": null,
      "outputs": []
    },
    {
      "cell_type": "code",
      "source": [
        "text = 'Artificial intelligence has a lot to learn'\n",
        "\n",
        "doc = spacy_en(text)"
      ],
      "metadata": {
        "id": "CnM_V4G7VlSK"
      },
      "execution_count": null,
      "outputs": []
    },
    {
      "cell_type": "code",
      "source": [
        "print(\"Noun phrases:\", [chunk.text for chunk in doc.noun_chunks])\n",
        "print(\"Verbs:\", [token.lemma_ for token in doc if token.pos_ == \"VERB\"])"
      ],
      "metadata": {
        "colab": {
          "base_uri": "https://localhost:8080/"
        },
        "id": "H0uPaxVtVybS",
        "outputId": "b5231a0c-26cb-4c79-b623-c53d1cf44dba"
      },
      "execution_count": null,
      "outputs": [
        {
          "output_type": "stream",
          "name": "stdout",
          "text": [
            "Noun phrases: ['Artificial intelligence', 'a lot']\n",
            "Verbs: ['have', 'learn']\n"
          ]
        }
      ]
    },
    {
      "cell_type": "code",
      "source": [
        "spacy_en"
      ],
      "metadata": {
        "colab": {
          "base_uri": "https://localhost:8080/"
        },
        "id": "2VQ4BOY1KZAE",
        "outputId": "7c8aa2d5-f957-47f1-f933-5bb9359586a5"
      },
      "execution_count": null,
      "outputs": [
        {
          "output_type": "execute_result",
          "data": {
            "text/plain": [
              "<spacy.lang.en.English at 0x7fdac33aaa90>"
            ]
          },
          "metadata": {},
          "execution_count": 6
        }
      ]
    },
    {
      "cell_type": "code",
      "source": [
        "[(i,v) for i,v in enumerate(spacy_en.tokenizer(text))]"
      ],
      "metadata": {
        "colab": {
          "base_uri": "https://localhost:8080/"
        },
        "id": "dLxlTxLOWo7b",
        "outputId": "9aa37e4f-b7da-4ae8-fe35-35040ab97e88"
      },
      "execution_count": null,
      "outputs": [
        {
          "output_type": "execute_result",
          "data": {
            "text/plain": [
              "[(0, Artificial),\n",
              " (1, intelligence),\n",
              " (2, has),\n",
              " (3, a),\n",
              " (4, lot),\n",
              " (5, to),\n",
              " (6, learn)]"
            ]
          },
          "metadata": {},
          "execution_count": 7
        }
      ]
    },
    {
      "cell_type": "code",
      "source": [
        "tokenized = spacy_en.tokenizer('i am student')\n",
        "for i,val in enumerate(tokenized):\n",
        "    print(f'{i} : {val}')"
      ],
      "metadata": {
        "colab": {
          "base_uri": "https://localhost:8080/"
        },
        "id": "x1ZgUTg0LYBJ",
        "outputId": "5f7db91e-e596-4b63-b7d0-864c010a93c1"
      },
      "execution_count": null,
      "outputs": [
        {
          "output_type": "stream",
          "name": "stdout",
          "text": [
            "0 : i\n",
            "1 : am\n",
            "2 : student\n"
          ]
        }
      ]
    },
    {
      "cell_type": "code",
      "source": [
        "\n",
        "def tokenized_en(text):\n",
        "    return [t.text for t in spacy_en.tokenizer(text)]\n",
        "print(tokenized_en(text))\n",
        "\n",
        "def tokenized_de(text):\n",
        "    return [t.text for t in spacy_de.tokenizer(text)][::-1]\n"
      ],
      "metadata": {
        "colab": {
          "base_uri": "https://localhost:8080/"
        },
        "id": "IBZpH7JXMmAd",
        "outputId": "1883ae8c-a7a3-4e39-ba54-01a304fb6484"
      },
      "execution_count": null,
      "outputs": [
        {
          "output_type": "stream",
          "name": "stdout",
          "text": [
            "['Artificial', 'intelligence', 'has', 'a', 'lot', 'to', 'learn']\n"
          ]
        }
      ]
    },
    {
      "cell_type": "code",
      "source": [
        "# Field 라이브러리 -> 데이터셋에 대한 구체적인 전처리 내용 명시\n",
        "# 소스(SRC) : 독일어\n",
        "# 타켓(TRG) : 영어\n",
        "from torchtext.legacy.data import Field, TabularDataset, BucketIterator, Iterator"
      ],
      "metadata": {
        "id": "KoIRdtVsNBH4"
      },
      "execution_count": null,
      "outputs": []
    },
    {
      "cell_type": "code",
      "source": [
        "SRC = Field(tokenize=tokenized_de, init_token=\"<sos>\", eos_token=\"<eos>\", lower=True)\n",
        "TRG = Field(tokenize=tokenized_en, init_token=\"<sos>\", eos_token=\"<eos>\", lower=True)"
      ],
      "metadata": {
        "id": "TneYj6eoRHJK"
      },
      "execution_count": null,
      "outputs": []
    },
    {
      "cell_type": "code",
      "source": [
        "Field?"
      ],
      "metadata": {
        "id": "U86p9d01i01N"
      },
      "execution_count": null,
      "outputs": []
    },
    {
      "cell_type": "code",
      "source": [
        "SRC"
      ],
      "metadata": {
        "colab": {
          "base_uri": "https://localhost:8080/"
        },
        "id": "z6cyoWsdTFNs",
        "outputId": "6a1bc68d-3cd5-48c9-ae98-fb8ac8b29169"
      },
      "execution_count": null,
      "outputs": [
        {
          "output_type": "execute_result",
          "data": {
            "text/plain": [
              "<torchtext.legacy.data.field.Field at 0x7fda5cf45390>"
            ]
          },
          "metadata": {},
          "execution_count": 31
        }
      ]
    },
    {
      "cell_type": "code",
      "source": [
        "# Multi30k는 영어-독어 번역 데이터셋 3000만개의 데이터임\n",
        "from torchtext.legacy.datasets import Multi30k\n",
        "train_dataset, valid_dataset, test_dataset = Multi30k.splits(exts=(\".de\", \".en\"), fields=(SRC, TRG))"
      ],
      "metadata": {
        "id": "wnseoBiZTKkG"
      },
      "execution_count": null,
      "outputs": []
    },
    {
      "cell_type": "code",
      "source": [
        "Multi30k.splits?"
      ],
      "metadata": {
        "id": "4SXdvfn_kvq4"
      },
      "execution_count": null,
      "outputs": []
    },
    {
      "cell_type": "code",
      "source": [
        "print(len(train_dataset))\n",
        "print(len(valid_dataset))\n",
        "print(len(test_dataset))"
      ],
      "metadata": {
        "colab": {
          "base_uri": "https://localhost:8080/"
        },
        "id": "YyiAb20dTdn8",
        "outputId": "3799ee3b-c3e5-4aab-cbb8-ecae242e1dec"
      },
      "execution_count": null,
      "outputs": [
        {
          "output_type": "stream",
          "name": "stdout",
          "text": [
            "29000\n",
            "1014\n",
            "1000\n"
          ]
        }
      ]
    },
    {
      "cell_type": "code",
      "source": [
        "test_dataset"
      ],
      "metadata": {
        "colab": {
          "base_uri": "https://localhost:8080/"
        },
        "id": "XtKP9Vo6T6Cy",
        "outputId": "73cc9dd4-ba17-46b2-ae29-73f254068b5e"
      },
      "execution_count": null,
      "outputs": [
        {
          "output_type": "execute_result",
          "data": {
            "text/plain": [
              "<torchtext.legacy.datasets.translation.Multi30k at 0x7fda6213d2d0>"
            ]
          },
          "metadata": {},
          "execution_count": 24
        }
      ]
    },
    {
      "cell_type": "code",
      "source": [
        "list(train_dataset[0])"
      ],
      "metadata": {
        "colab": {
          "base_uri": "https://localhost:8080/",
          "height": 172
        },
        "id": "v_sQ4kzfmILm",
        "outputId": "06061cba-19d4-4167-cbe9-30307e228851"
      },
      "execution_count": null,
      "outputs": [
        {
          "output_type": "error",
          "ename": "TypeError",
          "evalue": "ignored",
          "traceback": [
            "\u001b[0;31m---------------------------------------------------------------------------\u001b[0m",
            "\u001b[0;31mTypeError\u001b[0m                                 Traceback (most recent call last)",
            "\u001b[0;32m<ipython-input-25-d940b24d8166>\u001b[0m in \u001b[0;36m<module>\u001b[0;34m()\u001b[0m\n\u001b[0;32m----> 1\u001b[0;31m \u001b[0mlist\u001b[0m\u001b[0;34m(\u001b[0m\u001b[0mtrain_dataset\u001b[0m\u001b[0;34m[\u001b[0m\u001b[0;36m0\u001b[0m\u001b[0;34m]\u001b[0m\u001b[0;34m)\u001b[0m\u001b[0;34m\u001b[0m\u001b[0;34m\u001b[0m\u001b[0m\n\u001b[0m",
            "\u001b[0;31mTypeError\u001b[0m: 'Example' object is not iterable"
          ]
        }
      ]
    },
    {
      "cell_type": "code",
      "source": [
        "print(vars(train_dataset.examples[0]))"
      ],
      "metadata": {
        "colab": {
          "base_uri": "https://localhost:8080/"
        },
        "id": "PU9q0nAIox1W",
        "outputId": "1ad64d1c-e38d-4e4e-d7df-c1d79ca6287e"
      },
      "execution_count": null,
      "outputs": [
        {
          "output_type": "stream",
          "name": "stdout",
          "text": [
            "{'src': ['.', 'büsche', 'vieler', 'nähe', 'der', 'in', 'freien', 'im', 'sind', 'männer', 'weiße', 'junge', 'zwei'], 'trg': ['two', 'young', ',', 'white', 'males', 'are', 'outside', 'near', 'many', 'bushes', '.']}\n"
          ]
        }
      ]
    },
    {
      "cell_type": "code",
      "source": [
        "print(vars(train_dataset.examples[0])['src'])\n",
        "print(vars(train_dataset.examples[1])['trg'])"
      ],
      "metadata": {
        "colab": {
          "base_uri": "https://localhost:8080/"
        },
        "id": "UM15ER74T981",
        "outputId": "c7d10c3e-8585-40dd-e208-0c4d4ad7b3e2"
      },
      "execution_count": null,
      "outputs": [
        {
          "output_type": "stream",
          "name": "stdout",
          "text": [
            "['.', 'büsche', 'vieler', 'nähe', 'der', 'in', 'freien', 'im', 'sind', 'männer', 'weiße', 'junge', 'zwei']\n",
            "['several', 'men', 'in', 'hard', 'hats', 'are', 'operating', 'a', 'giant', 'pulley', 'system', '.']\n"
          ]
        }
      ]
    },
    {
      "cell_type": "code",
      "source": [
        "# 영어, 독어 단어 생성, 최소 2번 이상 등장한 단어만 선택\n",
        "SRC.build_vocab(train_dataset, min_freq=2)\n",
        "TRG.build_vocab(train_dataset, min_freq=2)"
      ],
      "metadata": {
        "id": "0Jq-HM1nUKv8"
      },
      "execution_count": null,
      "outputs": []
    },
    {
      "cell_type": "code",
      "source": [
        "print(len(TRG.vocab))"
      ],
      "metadata": {
        "colab": {
          "base_uri": "https://localhost:8080/"
        },
        "id": "FfB10ScNUp-h",
        "outputId": "0614ee07-2437-4fef-c744-9472c23277fe"
      },
      "execution_count": null,
      "outputs": [
        {
          "output_type": "stream",
          "name": "stdout",
          "text": [
            "5893\n"
          ]
        }
      ]
    },
    {
      "cell_type": "code",
      "source": [
        "SRC.vocab"
      ],
      "metadata": {
        "colab": {
          "base_uri": "https://localhost:8080/"
        },
        "id": "WFmYvdbdUuoI",
        "outputId": "4761d002-151f-4fc5-a8e1-4b3357f60d71"
      },
      "execution_count": null,
      "outputs": [
        {
          "output_type": "execute_result",
          "data": {
            "text/plain": [
              "<torchtext.legacy.vocab.Vocab at 0x7fda5d21cb50>"
            ]
          },
          "metadata": {},
          "execution_count": 43
        }
      ]
    },
    {
      "cell_type": "code",
      "source": [
        "print(TRG.vocab.stoi['<sos>'])\n",
        "print(SRC.vocab.stoi['<eos>'])\n",
        "print(TRG.vocab.stoi['dfafqf'])"
      ],
      "metadata": {
        "colab": {
          "base_uri": "https://localhost:8080/"
        },
        "id": "-GgviK93UyMN",
        "outputId": "196a00c5-c2f7-405c-a86e-4306220d7ebe"
      },
      "execution_count": null,
      "outputs": [
        {
          "output_type": "stream",
          "name": "stdout",
          "text": [
            "2\n",
            "3\n",
            "0\n"
          ]
        }
      ]
    },
    {
      "cell_type": "code",
      "source": [
        "TRG.vocab.stoi"
      ],
      "metadata": {
        "colab": {
          "base_uri": "https://localhost:8080/"
        },
        "id": "AkcQPs9OtRHT",
        "outputId": "e6292c00-61f8-4963-c441-a7b687da3b8d"
      },
      "execution_count": null,
      "outputs": [
        {
          "output_type": "execute_result",
          "data": {
            "text/plain": [
              "defaultdict(<bound method Vocab._default_unk_index of <torchtext.legacy.vocab.Vocab object at 0x7fda58ade510>>,\n",
              "            {'<unk>': 0,\n",
              "             '<pad>': 1,\n",
              "             '<sos>': 2,\n",
              "             '<eos>': 3,\n",
              "             'a': 4,\n",
              "             '.': 5,\n",
              "             'in': 6,\n",
              "             'the': 7,\n",
              "             'on': 8,\n",
              "             'man': 9,\n",
              "             'is': 10,\n",
              "             'and': 11,\n",
              "             'of': 12,\n",
              "             'with': 13,\n",
              "             'woman': 14,\n",
              "             ',': 15,\n",
              "             'two': 16,\n",
              "             'are': 17,\n",
              "             'to': 18,\n",
              "             'people': 19,\n",
              "             'at': 20,\n",
              "             'an': 21,\n",
              "             'wearing': 22,\n",
              "             'shirt': 23,\n",
              "             'young': 24,\n",
              "             'white': 25,\n",
              "             'black': 26,\n",
              "             'his': 27,\n",
              "             'while': 28,\n",
              "             'blue': 29,\n",
              "             'men': 30,\n",
              "             'red': 31,\n",
              "             'sitting': 32,\n",
              "             'girl': 33,\n",
              "             'boy': 34,\n",
              "             'dog': 35,\n",
              "             'standing': 36,\n",
              "             'playing': 37,\n",
              "             'group': 38,\n",
              "             'street': 39,\n",
              "             'down': 40,\n",
              "             'walking': 41,\n",
              "             '-': 42,\n",
              "             'front': 43,\n",
              "             'her': 44,\n",
              "             'holding': 45,\n",
              "             'one': 46,\n",
              "             'water': 47,\n",
              "             'three': 48,\n",
              "             'by': 49,\n",
              "             'women': 50,\n",
              "             'up': 51,\n",
              "             'green': 52,\n",
              "             'little': 53,\n",
              "             'for': 54,\n",
              "             'child': 55,\n",
              "             'looking': 56,\n",
              "             'outside': 57,\n",
              "             'as': 58,\n",
              "             'large': 59,\n",
              "             'through': 60,\n",
              "             'brown': 61,\n",
              "             'yellow': 62,\n",
              "             'children': 63,\n",
              "             'person': 64,\n",
              "             'from': 65,\n",
              "             'their': 66,\n",
              "             'hat': 67,\n",
              "             'ball': 68,\n",
              "             'into': 69,\n",
              "             'small': 70,\n",
              "             'next': 71,\n",
              "             'other': 72,\n",
              "             'dressed': 73,\n",
              "             'some': 74,\n",
              "             'out': 75,\n",
              "             'over': 76,\n",
              "             'building': 77,\n",
              "             'riding': 78,\n",
              "             'running': 79,\n",
              "             'near': 80,\n",
              "             'jacket': 81,\n",
              "             'another': 82,\n",
              "             'around': 83,\n",
              "             'sidewalk': 84,\n",
              "             'field': 85,\n",
              "             'orange': 86,\n",
              "             'crowd': 87,\n",
              "             'beach': 88,\n",
              "             'stands': 89,\n",
              "             'pink': 90,\n",
              "             'sits': 91,\n",
              "             'jumping': 92,\n",
              "             'behind': 93,\n",
              "             'table': 94,\n",
              "             'snow': 95,\n",
              "             'grass': 96,\n",
              "             'hair': 97,\n",
              "             'background': 98,\n",
              "             'bike': 99,\n",
              "             'stand': 100,\n",
              "             'city': 101,\n",
              "             \"'s\": 102,\n",
              "             'air': 103,\n",
              "             'girls': 104,\n",
              "             'player': 105,\n",
              "             'asian': 106,\n",
              "             'looks': 107,\n",
              "             'wall': 108,\n",
              "             'top': 109,\n",
              "             'four': 110,\n",
              "             'off': 111,\n",
              "             'dogs': 112,\n",
              "             'several': 113,\n",
              "             'that': 114,\n",
              "             'older': 115,\n",
              "             'camera': 116,\n",
              "             'dress': 117,\n",
              "             'park': 118,\n",
              "             'talking': 119,\n",
              "             'lady': 120,\n",
              "             'something': 121,\n",
              "             'blond': 122,\n",
              "             'soccer': 123,\n",
              "             'along': 124,\n",
              "             'walks': 125,\n",
              "             'guitar': 126,\n",
              "             'boys': 127,\n",
              "             'play': 128,\n",
              "             'together': 129,\n",
              "             'working': 130,\n",
              "             'food': 131,\n",
              "             'gray': 132,\n",
              "             'smiling': 133,\n",
              "             'picture': 134,\n",
              "             'game': 135,\n",
              "             'has': 136,\n",
              "             'plays': 137,\n",
              "             'car': 138,\n",
              "             'hand': 139,\n",
              "             'holds': 140,\n",
              "             'it': 141,\n",
              "             'road': 142,\n",
              "             'him': 143,\n",
              "             'bench': 144,\n",
              "             'old': 145,\n",
              "             'glasses': 146,\n",
              "             'pants': 147,\n",
              "             'shorts': 148,\n",
              "             'stage': 149,\n",
              "             'sit': 150,\n",
              "             'carrying': 151,\n",
              "             'walk': 152,\n",
              "             'baby': 153,\n",
              "             'couple': 154,\n",
              "             'them': 155,\n",
              "             'side': 156,\n",
              "             'bicycle': 157,\n",
              "             'face': 158,\n",
              "             'tree': 159,\n",
              "             '\"': 160,\n",
              "             'male': 161,\n",
              "             'pool': 162,\n",
              "             'long': 163,\n",
              "             'race': 164,\n",
              "             'taking': 165,\n",
              "             'rock': 166,\n",
              "             'each': 167,\n",
              "             'middle': 168,\n",
              "             'doing': 169,\n",
              "             'dirt': 170,\n",
              "             'across': 171,\n",
              "             'head': 172,\n",
              "             'watching': 173,\n",
              "             'guy': 174,\n",
              "             'jeans': 175,\n",
              "             'there': 176,\n",
              "             'area': 177,\n",
              "             'dark': 178,\n",
              "             'jumps': 179,\n",
              "             'boat': 180,\n",
              "             'hands': 181,\n",
              "             'back': 182,\n",
              "             'female': 183,\n",
              "             'day': 184,\n",
              "             'ground': 185,\n",
              "             'performing': 186,\n",
              "             'room': 187,\n",
              "             'baseball': 188,\n",
              "             'who': 189,\n",
              "             'eating': 190,\n",
              "             'being': 191,\n",
              "             'football': 192,\n",
              "             'coat': 193,\n",
              "             'striped': 194,\n",
              "             'using': 195,\n",
              "             'kids': 196,\n",
              "             'suit': 197,\n",
              "             'horse': 198,\n",
              "             'under': 199,\n",
              "             'band': 200,\n",
              "             'watch': 201,\n",
              "             'many': 202,\n",
              "             'mouth': 203,\n",
              "             'purple': 204,\n",
              "             'he': 205,\n",
              "             'sign': 206,\n",
              "             'store': 207,\n",
              "             't': 208,\n",
              "             'this': 209,\n",
              "             'haired': 210,\n",
              "             'sand': 211,\n",
              "             'runs': 212,\n",
              "             'tennis': 213,\n",
              "             'look': 214,\n",
              "             'players': 215,\n",
              "             'construction': 216,\n",
              "             'sunglasses': 217,\n",
              "             'reading': 218,\n",
              "             'clothing': 219,\n",
              "             'microphone': 220,\n",
              "             'mountain': 221,\n",
              "             'covered': 222,\n",
              "             'toy': 223,\n",
              "             'basketball': 224,\n",
              "             'ocean': 225,\n",
              "             'during': 226,\n",
              "             'its': 227,\n",
              "             'workers': 228,\n",
              "             'watches': 229,\n",
              "             'climbing': 230,\n",
              "             'uniform': 231,\n",
              "             'past': 232,\n",
              "             'elderly': 233,\n",
              "             'helmet': 234,\n",
              "             'restaurant': 235,\n",
              "             'against': 236,\n",
              "             'team': 237,\n",
              "             'train': 238,\n",
              "             'dancing': 239,\n",
              "             'window': 240,\n",
              "             'rides': 241,\n",
              "             'shirts': 242,\n",
              "             'chair': 243,\n",
              "             'they': 244,\n",
              "             'work': 245,\n",
              "             'about': 246,\n",
              "             'be': 247,\n",
              "             'wooden': 248,\n",
              "             'posing': 249,\n",
              "             'trees': 250,\n",
              "             'five': 251,\n",
              "             'having': 252,\n",
              "             'outdoor': 253,\n",
              "             'waiting': 254,\n",
              "             'all': 255,\n",
              "             'swimming': 256,\n",
              "             'getting': 257,\n",
              "             'or': 258,\n",
              "             'floor': 259,\n",
              "             'trying': 260,\n",
              "             'ice': 261,\n",
              "             'very': 262,\n",
              "             'colorful': 263,\n",
              "             'skateboard': 264,\n",
              "             'bag': 265,\n",
              "             'high': 266,\n",
              "             'busy': 267,\n",
              "             'fence': 268,\n",
              "             'singing': 269,\n",
              "             'jump': 270,\n",
              "             'cart': 271,\n",
              "             'line': 272,\n",
              "             'laying': 273,\n",
              "             'hill': 274,\n",
              "             'market': 275,\n",
              "             'truck': 276,\n",
              "             'book': 277,\n",
              "             'bright': 278,\n",
              "             'hats': 279,\n",
              "             'inside': 280,\n",
              "             'ride': 281,\n",
              "             'tan': 282,\n",
              "             'cap': 283,\n",
              "             'kitchen': 284,\n",
              "             'others': 285,\n",
              "             'cellphone': 286,\n",
              "             'grassy': 287,\n",
              "             'path': 288,\n",
              "             'big': 289,\n",
              "             'someone': 290,\n",
              "             'brick': 291,\n",
              "             'making': 292,\n",
              "             'bus': 293,\n",
              "             'clothes': 294,\n",
              "             'motorcycle': 295,\n",
              "             'takes': 296,\n",
              "             'umbrella': 297,\n",
              "             'full': 298,\n",
              "             'light': 299,\n",
              "             'outfit': 300,\n",
              "             'towards': 301,\n",
              "             'track': 302,\n",
              "             'body': 303,\n",
              "             'enjoying': 304,\n",
              "             'night': 305,\n",
              "             'colored': 306,\n",
              "             'metal': 307,\n",
              "             'swing': 308,\n",
              "             'river': 309,\n",
              "             'open': 310,\n",
              "             'paper': 311,\n",
              "             'ready': 312,\n",
              "             'she': 313,\n",
              "             'tank': 314,\n",
              "             'piece': 315,\n",
              "             'shop': 316,\n",
              "             'sweater': 317,\n",
              "             'lake': 318,\n",
              "             'trick': 319,\n",
              "             'above': 320,\n",
              "             'painting': 321,\n",
              "             'run': 322,\n",
              "             'worker': 323,\n",
              "             'african': 324,\n",
              "             'hard': 325,\n",
              "             'adults': 326,\n",
              "             'american': 327,\n",
              "             'going': 328,\n",
              "             'music': 329,\n",
              "             'dance': 330,\n",
              "             'snowy': 331,\n",
              "             'shopping': 332,\n",
              "             'stone': 333,\n",
              "             'surrounded': 334,\n",
              "             'wave': 335,\n",
              "             'onto': 336,\n",
              "             'stick': 337,\n",
              "             'uniforms': 338,\n",
              "             'vest': 339,\n",
              "             'like': 340,\n",
              "             'outdoors': 341,\n",
              "             'photo': 342,\n",
              "             'backpack': 343,\n",
              "             'beside': 344,\n",
              "             'crowded': 345,\n",
              "             'smiles': 346,\n",
              "             'board': 347,\n",
              "             'kid': 348,\n",
              "             'phone': 349,\n",
              "             'pole': 350,\n",
              "             'drinking': 351,\n",
              "             'gear': 352,\n",
              "             'hockey': 353,\n",
              "             'subway': 354,\n",
              "             'family': 355,\n",
              "             'house': 356,\n",
              "             'toddler': 357,\n",
              "             'event': 358,\n",
              "             'gathered': 359,\n",
              "             'guys': 360,\n",
              "             'hanging': 361,\n",
              "             'police': 362,\n",
              "             'set': 363,\n",
              "             'arms': 364,\n",
              "             'bridge': 365,\n",
              "             'catch': 366,\n",
              "             'flowers': 367,\n",
              "             'away': 368,\n",
              "             'beautiful': 369,\n",
              "             'preparing': 370,\n",
              "             'fire': 371,\n",
              "             'costume': 372,\n",
              "             'leaning': 373,\n",
              "             'object': 374,\n",
              "             'sleeping': 375,\n",
              "             'after': 376,\n",
              "             'fishing': 377,\n",
              "             'steps': 378,\n",
              "             'bar': 379,\n",
              "             'does': 380,\n",
              "             'lot': 381,\n",
              "             'machine': 382,\n",
              "             'fountain': 383,\n",
              "             'plaid': 384,\n",
              "             'rope': 385,\n",
              "             'short': 386,\n",
              "             'adult': 387,\n",
              "             'shirtless': 388,\n",
              "             'take': 389,\n",
              "             'graffiti': 390,\n",
              "             'stairs': 391,\n",
              "             'rocks': 392,\n",
              "             'shoes': 393,\n",
              "             'arm': 394,\n",
              "             'selling': 395,\n",
              "             'sunny': 396,\n",
              "             'forest': 397,\n",
              "             'parade': 398,\n",
              "             'racing': 399,\n",
              "             'setting': 400,\n",
              "             'chairs': 401,\n",
              "             'glass': 402,\n",
              "             'pose': 403,\n",
              "             'tall': 404,\n",
              "             'both': 405,\n",
              "             'corner': 406,\n",
              "             'putting': 407,\n",
              "             'volleyball': 408,\n",
              "             'frisbee': 409,\n",
              "             'pushing': 410,\n",
              "             'throwing': 411,\n",
              "             'between': 412,\n",
              "             'drink': 413,\n",
              "             'have': 414,\n",
              "             'ladies': 415,\n",
              "             'slide': 416,\n",
              "             '2': 417,\n",
              "             'computer': 418,\n",
              "             'laughing': 419,\n",
              "             'public': 420,\n",
              "             'equipment': 421,\n",
              "             'flag': 422,\n",
              "             'instruments': 423,\n",
              "             'wood': 424,\n",
              "             'couch': 425,\n",
              "             'pictures': 426,\n",
              "             'sun': 427,\n",
              "             'view': 428,\n",
              "             'cowboy': 429,\n",
              "             'party': 430,\n",
              "             'plastic': 431,\n",
              "             'ramp': 432,\n",
              "             'aged': 433,\n",
              "             'concrete': 434,\n",
              "             'playground': 435,\n",
              "             'poses': 436,\n",
              "             'sweatshirt': 437,\n",
              "             'trail': 438,\n",
              "             'which': 439,\n",
              "             'woods': 440,\n",
              "             'beard': 441,\n",
              "             'fish': 442,\n",
              "             'statue': 443,\n",
              "             'dock': 444,\n",
              "             'midair': 445,\n",
              "             'winter': 446,\n",
              "             'yard': 447,\n",
              "             'number': 448,\n",
              "             'bikes': 449,\n",
              "             'seated': 450,\n",
              "             'skirt': 451,\n",
              "             'distance': 452,\n",
              "             'attire': 453,\n",
              "             'just': 454,\n",
              "             'reads': 455,\n",
              "             'school': 456,\n",
              "             'six': 457,\n",
              "             'toward': 458,\n",
              "             'what': 459,\n",
              "             'beer': 460,\n",
              "             'cooking': 461,\n",
              "             'get': 462,\n",
              "             'left': 463,\n",
              "             'sky': 464,\n",
              "             'works': 465,\n",
              "             'cutting': 466,\n",
              "             'rider': 467,\n",
              "             'vests': 468,\n",
              "             'bags': 469,\n",
              "             'buildings': 470,\n",
              "             'cream': 471,\n",
              "             'cross': 472,\n",
              "             'filled': 473,\n",
              "             'lined': 474,\n",
              "             'pulling': 475,\n",
              "             'where': 476,\n",
              "             'appears': 477,\n",
              "             'bed': 478,\n",
              "             'cliff': 479,\n",
              "             'skateboarder': 480,\n",
              "             'station': 481,\n",
              "             'tent': 482,\n",
              "             'crossing': 483,\n",
              "             'edge': 484,\n",
              "             'few': 485,\n",
              "             'friends': 486,\n",
              "             'instrument': 487,\n",
              "             'mountains': 488,\n",
              "             'showing': 489,\n",
              "             'spectators': 490,\n",
              "             'bearded': 491,\n",
              "             'cars': 492,\n",
              "             'court': 493,\n",
              "             'horses': 494,\n",
              "             'jersey': 495,\n",
              "             'mother': 496,\n",
              "             'make': 497,\n",
              "             'nearby': 498,\n",
              "             'performs': 499,\n",
              "             'right': 500,\n",
              "             'scarf': 501,\n",
              "             'apron': 502,\n",
              "             'bowling': 503,\n",
              "             'carries': 504,\n",
              "             'concert': 505,\n",
              "             'driving': 506,\n",
              "             'grill': 507,\n",
              "             'perform': 508,\n",
              "             'show': 509,\n",
              "             'snowboarder': 510,\n",
              "             'art': 511,\n",
              "             'fruit': 512,\n",
              "             'leaves': 513,\n",
              "             'shore': 514,\n",
              "             'boots': 515,\n",
              "             'cigarette': 516,\n",
              "             'coffee': 517,\n",
              "             'cup': 518,\n",
              "             'parked': 519,\n",
              "             'structure': 520,\n",
              "             'students': 521,\n",
              "             'various': 522,\n",
              "             'vendor': 523,\n",
              "             'gentleman': 524,\n",
              "             'goggles': 525,\n",
              "             'painted': 526,\n",
              "             'smile': 527,\n",
              "             'time': 528,\n",
              "             'vehicle': 529,\n",
              "             'younger': 530,\n",
              "             'bottle': 531,\n",
              "             'door': 532,\n",
              "             'dresses': 533,\n",
              "             'drums': 534,\n",
              "             'flower': 535,\n",
              "             'flying': 536,\n",
              "             'martial': 537,\n",
              "             'net': 538,\n",
              "             'smoking': 539,\n",
              "             'talks': 540,\n",
              "             'bathing': 541,\n",
              "             'eyes': 542,\n",
              "             'flags': 543,\n",
              "             'hit': 544,\n",
              "             'home': 545,\n",
              "             'kicking': 546,\n",
              "             'lying': 547,\n",
              "             'new': 548,\n",
              "             'no': 549,\n",
              "             'rocky': 550,\n",
              "             'shot': 551,\n",
              "             'surfer': 552,\n",
              "             'arts': 553,\n",
              "             'indian': 554,\n",
              "             'jackets': 555,\n",
              "             'newspaper': 556,\n",
              "             'paint': 557,\n",
              "             'prepares': 558,\n",
              "             'rain': 559,\n",
              "             'rodeo': 560,\n",
              "             'safety': 561,\n",
              "             'swinging': 562,\n",
              "             'waves': 563,\n",
              "             'box': 564,\n",
              "             'bucket': 565,\n",
              "             'conversation': 566,\n",
              "             'costumes': 567,\n",
              "             'different': 568,\n",
              "             'gather': 569,\n",
              "             'gloves': 570,\n",
              "             'parking': 571,\n",
              "             'practicing': 572,\n",
              "             'bunch': 573,\n",
              "             'cleaning': 574,\n",
              "             'competition': 575,\n",
              "             'ladder': 576,\n",
              "             'listening': 577,\n",
              "             'roof': 578,\n",
              "             'uses': 579,\n",
              "             'blanket': 580,\n",
              "             'items': 581,\n",
              "             'onlookers': 582,\n",
              "             'scene': 583,\n",
              "             'skateboarding': 584,\n",
              "             'staring': 585,\n",
              "             'wet': 586,\n",
              "             'audience': 587,\n",
              "             'balloon': 588,\n",
              "             'bicycles': 589,\n",
              "             'bikini': 590,\n",
              "             'bull': 591,\n",
              "             'desk': 592,\n",
              "             'empty': 593,\n",
              "             'giving': 594,\n",
              "             'lawn': 595,\n",
              "             'meal': 596,\n",
              "             'pile': 597,\n",
              "             'railing': 598,\n",
              "             'drinks': 599,\n",
              "             'hot': 600,\n",
              "             'leaps': 601,\n",
              "             'military': 602,\n",
              "             'sports': 603,\n",
              "             'cake': 604,\n",
              "             'display': 605,\n",
              "             'gathering': 606,\n",
              "             'go': 607,\n",
              "             'hold': 608,\n",
              "             'pointing': 609,\n",
              "             'sliding': 610,\n",
              "             'vegetables': 611,\n",
              "             'basket': 612,\n",
              "             'before': 613,\n",
              "             'biker': 614,\n",
              "             'bowl': 615,\n",
              "             'class': 616,\n",
              "             'competing': 617,\n",
              "             'facing': 618,\n",
              "             'feet': 619,\n",
              "             'gold': 620,\n",
              "             'stop': 621,\n",
              "             'streets': 622,\n",
              "             'suits': 623,\n",
              "             'wedding': 624,\n",
              "             'bird': 625,\n",
              "             'cement': 626,\n",
              "             'flip': 627,\n",
              "             'helmets': 628,\n",
              "             'huge': 629,\n",
              "             'mask': 630,\n",
              "             'platform': 631,\n",
              "             'silver': 632,\n",
              "             'speaking': 633,\n",
              "             'classroom': 634,\n",
              "             'coming': 635,\n",
              "             'gets': 636,\n",
              "             'lit': 637,\n",
              "             'match': 638,\n",
              "             'teams': 639,\n",
              "             'tie': 640,\n",
              "             'alley': 641,\n",
              "             'bride': 642,\n",
              "             'climbs': 643,\n",
              "             'marathon': 644,\n",
              "             'purse': 645,\n",
              "             'sings': 646,\n",
              "             'ski': 647,\n",
              "             'skier': 648,\n",
              "             'surfboard': 649,\n",
              "             'surfing': 650,\n",
              "             'traditional': 651,\n",
              "             'tries': 652,\n",
              "             'wait': 653,\n",
              "             'animal': 654,\n",
              "             'can': 655,\n",
              "             'chasing': 656,\n",
              "             'counter': 657,\n",
              "             'fighting': 658,\n",
              "             'kissing': 659,\n",
              "             'musicians': 660,\n",
              "             'rail': 661,\n",
              "             'screen': 662,\n",
              "             'break': 663,\n",
              "             'country': 664,\n",
              "             'father': 665,\n",
              "             'females': 666,\n",
              "             'happy': 667,\n",
              "             'same': 668,\n",
              "             'skating': 669,\n",
              "             'stroller': 670,\n",
              "             'kneeling': 671,\n",
              "             'lap': 672,\n",
              "             'pass': 673,\n",
              "             'runner': 674,\n",
              "             'shoulder': 675,\n",
              "             'sunset': 676,\n",
              "             'throw': 677,\n",
              "             'waits': 678,\n",
              "             'walkway': 679,\n",
              "             'writing': 680,\n",
              "             'attempting': 681,\n",
              "             'bald': 682,\n",
              "             'business': 683,\n",
              "             'christmas': 684,\n",
              "             'scooter': 685,\n",
              "             'seen': 686,\n",
              "             'sort': 687,\n",
              "             'talk': 688,\n",
              "             'violin': 689,\n",
              "             'waving': 690,\n",
              "             '3': 691,\n",
              "             'blowing': 692,\n",
              "             'outfits': 693,\n",
              "             'overlooking': 694,\n",
              "             'place': 695,\n",
              "             'signs': 696,\n",
              "             'artist': 697,\n",
              "             'bubbles': 698,\n",
              "             'chinese': 699,\n",
              "             'close': 700,\n",
              "             'course': 701,\n",
              "             'hole': 702,\n",
              "             'life': 703,\n",
              "             'mirror': 704,\n",
              "             'officer': 705,\n",
              "             'says': 706,\n",
              "             'son': 707,\n",
              "             'tables': 708,\n",
              "             'urban': 709,\n",
              "             'way': 710,\n",
              "             'balloons': 711,\n",
              "             'base': 712,\n",
              "             'brightly': 713,\n",
              "             'fixing': 714,\n",
              "             'giant': 715,\n",
              "             'leans': 716,\n",
              "             'lights': 717,\n",
              "             'alone': 718,\n",
              "             'brunette': 719,\n",
              "             'cafe': 720,\n",
              "             'collar': 721,\n",
              "             'do': 722,\n",
              "             'end': 723,\n",
              "             'faces': 724,\n",
              "             'foreground': 725,\n",
              "             'gym': 726,\n",
              "             'helping': 727,\n",
              "             'leather': 728,\n",
              "             'leg': 729,\n",
              "             'made': 730,\n",
              "             'swim': 731,\n",
              "             'teenage': 732,\n",
              "             'umbrellas': 733,\n",
              "             'asleep': 734,\n",
              "             'clown': 735,\n",
              "             'electric': 736,\n",
              "             'enjoy': 737,\n",
              "             'headphones': 738,\n",
              "             'legs': 739,\n",
              "             'meat': 740,\n",
              "             'mud': 741,\n",
              "             'plate': 742,\n",
              "             'site': 743,\n",
              "             'skate': 744,\n",
              "             'well': 745,\n",
              "             'among': 746,\n",
              "             'dancers': 747,\n",
              "             'diving': 748,\n",
              "             'falling': 749,\n",
              "             'golf': 750,\n",
              "             'makes': 751,\n",
              "             'office': 752,\n",
              "             'officers': 753,\n",
              "             'passing': 754,\n",
              "             'roller': 755,\n",
              "             'sandals': 756,\n",
              "             'stadium': 757,\n",
              "             'sticks': 758,\n",
              "             'swings': 759,\n",
              "             'washing': 760,\n",
              "             'wears': 761,\n",
              "             'barefoot': 762,\n",
              "             'canoe': 763,\n",
              "             'church': 764,\n",
              "             'dirty': 765,\n",
              "             'doorway': 766,\n",
              "             'goal': 767,\n",
              "             'heads': 768,\n",
              "             'multicolored': 769,\n",
              "             'musical': 770,\n",
              "             'photographer': 771,\n",
              "             'skiing': 772,\n",
              "             'toys': 773,\n",
              "             'accordion': 774,\n",
              "             'drawing': 775,\n",
              "             'laptop': 776,\n",
              "             'leash': 777,\n",
              "             'males': 778,\n",
              "             'picking': 779,\n",
              "             'reaching': 780,\n",
              "             'singer': 781,\n",
              "             'throws': 782,\n",
              "             'traffic': 783,\n",
              "             'video': 784,\n",
              "             'below': 785,\n",
              "             'digging': 786,\n",
              "             'hiking': 787,\n",
              "             'members': 788,\n",
              "             'performance': 789,\n",
              "             'relaxing': 790,\n",
              "             'row': 791,\n",
              "             'shallow': 792,\n",
              "             'wheel': 793,\n",
              "             'atop': 794,\n",
              "             'bicyclist': 795,\n",
              "             'cat': 796,\n",
              "             'catches': 797,\n",
              "             'catching': 798,\n",
              "             'deep': 799,\n",
              "             'foot': 800,\n",
              "             'gives': 801,\n",
              "             'hugging': 802,\n",
              "             'microscope': 803,\n",
              "             'passes': 804,\n",
              "             'shovel': 805,\n",
              "             'square': 806,\n",
              "             'tunnel': 807,\n",
              "             'upside': 808,\n",
              "             'van': 809,\n",
              "             'balls': 810,\n",
              "             'beige': 811,\n",
              "             'chef': 812,\n",
              "             'climb': 813,\n",
              "             'cut': 814,\n",
              "             'drum': 815,\n",
              "             'fun': 816,\n",
              "             'garden': 817,\n",
              "             'kick': 818,\n",
              "             'leaping': 819,\n",
              "             'prepare': 820,\n",
              "             'shows': 821,\n",
              "             'sleeps': 822,\n",
              "             'stunt': 823,\n",
              "             'sweeping': 824,\n",
              "             'tattoo': 825,\n",
              "             'coats': 826,\n",
              "             'cold': 827,\n",
              "             'conversing': 828,\n",
              "             'daughter': 829,\n",
              "             'desert': 830,\n",
              "             'flies': 831,\n",
              "             'here': 832,\n",
              "             'hoodie': 833,\n",
              "             'hose': 834,\n",
              "             'individuals': 835,\n",
              "             'karate': 836,\n",
              "             'lots': 837,\n",
              "             'move': 838,\n",
              "             'photograph': 839,\n",
              "             'pond': 840,\n",
              "             'resting': 841,\n",
              "             'sculpture': 842,\n",
              "             'sled': 843,\n",
              "             'splashing': 844,\n",
              "             'teeth': 845,\n",
              "             'trunks': 846,\n",
              "             ';': 847,\n",
              "             'bat': 848,\n",
              "             'block': 849,\n",
              "             'customers': 850,\n",
              "             'friend': 851,\n",
              "             'held': 852,\n",
              "             'how': 853,\n",
              "             'jogging': 854,\n",
              "             'lone': 855,\n",
              "             'pier': 856,\n",
              "             'plants': 857,\n",
              "             'points': 858,\n",
              "             'telescope': 859,\n",
              "             'these': 860,\n",
              "             'tire': 861,\n",
              "             'town': 862,\n",
              "             'underneath': 863,\n",
              "             'wrestling': 864,\n",
              "             'cane': 865,\n",
              "             'carnival': 866,\n",
              "             'curly': 867,\n",
              "             'cyclist': 868,\n",
              "             'eat': 869,\n",
              "             'hiker': 870,\n",
              "             'including': 871,\n",
              "             'local': 872,\n",
              "             'moving': 873,\n",
              "             'opposing': 874,\n",
              "             'project': 875,\n",
              "             'shoulders': 876,\n",
              "             'themselves': 877,\n",
              "             'waters': 878,\n",
              "             'without': 879,\n",
              "             'circle': 880,\n",
              "             'cloth': 881,\n",
              "             'crosswalk': 882,\n",
              "             'crying': 883,\n",
              "             'dinner': 884,\n",
              "             'gun': 885,\n",
              "             'hula': 886,\n",
              "             'infant': 887,\n",
              "             'lab': 888,\n",
              "             'makeup': 889,\n",
              "             'matching': 890,\n",
              "             'mural': 891,\n",
              "             'paved': 892,\n",
              "             'produce': 893,\n",
              "             'pulled': 894,\n",
              "             'racket': 895,\n",
              "             'runners': 896,\n",
              "             'shoe': 897,\n",
              "             'straw': 898,\n",
              "             'taken': 899,\n",
              "             'trampoline': 900,\n",
              "             'tricks': 901,\n",
              "             'wooded': 902,\n",
              "             'athlete': 903,\n",
              "             'attempts': 904,\n",
              "             'bicyclists': 905,\n",
              "             'booth': 906,\n",
              "             'closed': 907,\n",
              "             'dances': 908,\n",
              "             'formal': 909,\n",
              "             'gymnast': 910,\n",
              "             'knee': 911,\n",
              "             'mat': 912,\n",
              "             'nose': 913,\n",
              "             'opening': 914,\n",
              "             'performer': 915,\n",
              "             'picnic': 916,\n",
              "             'rolling': 917,\n",
              "             'sewing': 918,\n",
              "             'stuffed': 919,\n",
              "             'surface': 920,\n",
              "             'trash': 921,\n",
              "             \"'\": 922,\n",
              "             'balcony': 923,\n",
              "             'blouse': 924,\n",
              "             'boxes': 925,\n",
              "             'center': 926,\n",
              "             'cheerleaders': 927,\n",
              "             'cow': 928,\n",
              "             'fight': 929,\n",
              "             'goes': 930,\n",
              "             'help': 931,\n",
              "             'hikers': 932,\n",
              "             'himself': 933,\n",
              "             'lays': 934,\n",
              "             'lunch': 935,\n",
              "             'neck': 936,\n",
              "             'oriental': 937,\n",
              "             'pedestrians': 938,\n",
              "             'pitcher': 939,\n",
              "             'pushes': 940,\n",
              "             'ring': 941,\n",
              "             'round': 942,\n",
              "             'sandy': 943,\n",
              "             'slope': 944,\n",
              "             'softball': 945,\n",
              "             'teenagers': 946,\n",
              "             'third': 947,\n",
              "             'wear': 948,\n",
              "             'bent': 949,\n",
              "             'button': 950,\n",
              "             'chases': 951,\n",
              "             'deck': 952,\n",
              "             'device': 953,\n",
              "             'festival': 954,\n",
              "             'hoop': 955,\n",
              "             'i': 956,\n",
              "             'indoor': 957,\n",
              "             'kind': 958,\n",
              "             'log': 959,\n",
              "             'not': 960,\n",
              "             'pulls': 961,\n",
              "             'puts': 962,\n",
              "             'seven': 963,\n",
              "             'skis': 964,\n",
              "             'speaks': 965,\n",
              "             'staircase': 966,\n",
              "             'turn': 967,\n",
              "             'books': 968,\n",
              "             'covering': 969,\n",
              "             'driver': 970,\n",
              "             'drives': 971,\n",
              "             'enjoys': 972,\n",
              "             'evening': 973,\n",
              "             'fallen': 974,\n",
              "             'gentlemen': 975,\n",
              "             'golden': 976,\n",
              "             'grocery': 977,\n",
              "             'heavy': 978,\n",
              "             'marching': 979,\n",
              "             'overalls': 980,\n",
              "             'robe': 981,\n",
              "             'shaking': 982,\n",
              "             'swims': 983,\n",
              "             'wetsuit': 984,\n",
              "             'birds': 985,\n",
              "             'cloudy': 986,\n",
              "             'dancer': 987,\n",
              "             'fair': 988,\n",
              "             'fingers': 989,\n",
              "             'foreign': 990,\n",
              "             'garb': 991,\n",
              "             'hammer': 992,\n",
              "             'jean': 993,\n",
              "             'kayak': 994,\n",
              "             'khaki': 995,\n",
              "             'kicks': 996,\n",
              "             'laundry': 997,\n",
              "             'native': 998,\n",
              "             'nice': 999,\n",
              "             ...})"
            ]
          },
          "metadata": {},
          "execution_count": 48
        }
      ]
    },
    {
      "cell_type": "code",
      "source": [
        "# 한 문장에 포함된 단어가 연속적으로 LSTM에 입력되어야함\n",
        "# 하나의 배치에 포함된 문장들이 가지는 단어의 개수가 유사하도록 만들기\n",
        "# BucketIterator 사용\n",
        "# batch size 128\n",
        "\n",
        "import torch\n",
        "device = torch.device('cuda' if torch.cuda.is_available() else 'cpu')\n",
        "BATCH_SIZE = 128\n"
      ],
      "metadata": {
        "id": "RjAFyM2KVS6y"
      },
      "execution_count": null,
      "outputs": []
    },
    {
      "cell_type": "code",
      "source": [
        "device"
      ],
      "metadata": {
        "colab": {
          "base_uri": "https://localhost:8080/"
        },
        "id": "oDSn0UbMXV-d",
        "outputId": "2404adc0-8b12-452a-db4e-3ce6ca13e1fe"
      },
      "execution_count": null,
      "outputs": [
        {
          "output_type": "execute_result",
          "data": {
            "text/plain": [
              "device(type='cuda')"
            ]
          },
          "metadata": {},
          "execution_count": 51
        }
      ]
    },
    {
      "cell_type": "code",
      "source": [
        "train_iterator, valid_iterator, test_iterator = BucketIterator.splits(\n",
        "    (train_dataset, valid_dataset, test_dataset),\n",
        "    batch_size=BATCH_SIZE,\n",
        "    device=device\n",
        ")"
      ],
      "metadata": {
        "id": "biSZgkjAXmMK"
      },
      "execution_count": null,
      "outputs": []
    },
    {
      "cell_type": "code",
      "source": [
        "train_iterator"
      ],
      "metadata": {
        "colab": {
          "base_uri": "https://localhost:8080/"
        },
        "id": "ZTT9X67jX2P9",
        "outputId": "a3c54625-fe9a-433e-c3de-f5ef4aa40dcd"
      },
      "execution_count": null,
      "outputs": [
        {
          "output_type": "execute_result",
          "data": {
            "text/plain": [
              "<torchtext.legacy.data.iterator.BucketIterator at 0x7fda5d21c5d0>"
            ]
          },
          "metadata": {},
          "execution_count": 53
        }
      ]
    },
    {
      "cell_type": "code",
      "source": [
        "SRC.vocab.itos[1]"
      ],
      "metadata": {
        "colab": {
          "base_uri": "https://localhost:8080/",
          "height": 35
        },
        "id": "4qzxNmnPx8gp",
        "outputId": "ca1ba9e0-349b-4e81-8a99-847200034c20"
      },
      "execution_count": null,
      "outputs": [
        {
          "output_type": "execute_result",
          "data": {
            "text/plain": [
              "'<pad>'"
            ],
            "application/vnd.google.colaboratory.intrinsic+json": {
              "type": "string"
            }
          },
          "metadata": {},
          "execution_count": 56
        }
      ]
    },
    {
      "cell_type": "code",
      "source": [
        "# 배치단위로 확인해보기\n",
        "for i, batch in enumerate(train_iterator):\n",
        "    src = batch.src\n",
        "    trg = batch.trg\n",
        "    print(f'batch.shape : {src.shape}')\n",
        "    for i in range(src.shape[0]):\n",
        "        print(f\"idx {i} : {src[i][0].item()}\")\n",
        "    break"
      ],
      "metadata": {
        "colab": {
          "base_uri": "https://localhost:8080/"
        },
        "id": "QU_Z9MyfX5Fv",
        "outputId": "66928a63-041a-4cf8-bd93-2d2ca93be7ca"
      },
      "execution_count": null,
      "outputs": [
        {
          "output_type": "stream",
          "name": "stdout",
          "text": [
            "batch.shape : torch.Size([34, 128])\n",
            "idx 0 : 2\n",
            "idx 1 : 4\n",
            "idx 2 : 0\n",
            "idx 3 : 19\n",
            "idx 4 : 7624\n",
            "idx 5 : 16\n",
            "idx 6 : 8\n",
            "idx 7 : 3\n",
            "idx 8 : 1\n",
            "idx 9 : 1\n",
            "idx 10 : 1\n",
            "idx 11 : 1\n",
            "idx 12 : 1\n",
            "idx 13 : 1\n",
            "idx 14 : 1\n",
            "idx 15 : 1\n",
            "idx 16 : 1\n",
            "idx 17 : 1\n",
            "idx 18 : 1\n",
            "idx 19 : 1\n",
            "idx 20 : 1\n",
            "idx 21 : 1\n",
            "idx 22 : 1\n",
            "idx 23 : 1\n",
            "idx 24 : 1\n",
            "idx 25 : 1\n",
            "idx 26 : 1\n",
            "idx 27 : 1\n",
            "idx 28 : 1\n",
            "idx 29 : 1\n",
            "idx 30 : 1\n",
            "idx 31 : 1\n",
            "idx 32 : 1\n",
            "idx 33 : 1\n"
          ]
        }
      ]
    },
    {
      "cell_type": "code",
      "source": [
        "# Encoder 아키텍쳐\n",
        "## 소스 문장 -> context vector로 인코딩\n",
        "## LSTM 리턴 값 -> hidden state, cell state\n",
        "## 하이퍼 파라미터\n",
        "    # input_dim : 단어에 대한 원핫인코딩 차원\n",
        "    # embed_dim : 임베딩 차원\n",
        "    # hidden_dim : hidden_state 차원\n",
        "    # n_layers : RNN 레이어 개수\n",
        "    # dropout_ratio : 드롭 아웃 비율"
      ],
      "metadata": {
        "id": "D5ztgH5-YmAE"
      },
      "execution_count": null,
      "outputs": []
    },
    {
      "cell_type": "code",
      "source": [
        "# 인코더(Encoder) 아키텍처 정의\n",
        "class Encoder(nn.Module):\n",
        "    def __init__(self, input_dim, embed_dim, hidden_dim, n_layers, dropout_ratio):\n",
        "        super().__init__()\n",
        "\n",
        "        # 임베딩(embedding)은 원-핫 인코딩(one-hot encoding)을 특정 차원의 임베딩으로 매핑하는 레이어\n",
        "        self.embedding = nn.Embedding(input_dim, embed_dim)\n",
        "\n",
        "        # LSTM 레이어\n",
        "        self.hidden_dim = hidden_dim\n",
        "        self.n_layers = n_layers\n",
        "        self.rnn = nn.LSTM(embed_dim, hidden_dim, n_layers, dropout=dropout_ratio)\n",
        "        \n",
        "        # 드롭아웃(dropout)\n",
        "        self.dropout = nn.Dropout(dropout_ratio)\n",
        "\n",
        "    # 인코더는 소스 문장을 입력으로 받아 문맥 벡터(context vector)를 반환        \n",
        "    def forward(self, src):\n",
        "        # src: [단어 개수, 배치 크기]: 각 단어의 인덱스(index) 정보\n",
        "        embedded = self.dropout(self.embedding(src))\n",
        "        # embedded: [단어 개수, 배치 크기, 임베딩 차원]\n",
        "\n",
        "        outputs, (hidden, cell) = self.rnn(embedded)\n",
        "        # outputs: [단어 개수, 배치 크기, 히든 차원]: 현재 단어의 출력 정보\n",
        "        # hidden: [레이어 개수, 배치 크기, 히든 차원]: 현재까지의 모든 단어의 정보\n",
        "        # cell: [레이어 개수, 배치 크기, 히든 차원]: 현재까지의 모든 단어의 정보\n",
        "\n",
        "        # 문맥 벡터(context vector) 반환\n",
        "        return hidden, cell"
      ],
      "metadata": {
        "id": "eEHRTMAYZTQv"
      },
      "execution_count": null,
      "outputs": []
    },
    {
      "cell_type": "code",
      "source": [
        "# 디코더(Decoder) 아키텍처 정의\n",
        "class Decoder(nn.Module):\n",
        "    def __init__(self, output_dim, embed_dim, hidden_dim, n_layers, dropout_ratio):\n",
        "        super().__init__()\n",
        "\n",
        "        # 임베딩(embedding)은 원-핫 인코딩(one-hot encoding) 말고 특정 차원의 임베딩으로 매핑하는 레이어\n",
        "        self.embedding = nn.Embedding(output_dim, embed_dim)\n",
        "\n",
        "        # LSTM 레이어\n",
        "        self.hidden_dim = hidden_dim\n",
        "        self.n_layers = n_layers\n",
        "        self.rnn = nn.LSTM(embed_dim, hidden_dim, n_layers, dropout=dropout_ratio)\n",
        "        \n",
        "        # FC 레이어 (인코더와 구조적으로 다른 부분)\n",
        "        self.output_dim = output_dim\n",
        "        self.fc_out = nn.Linear(hidden_dim, output_dim)\n",
        "        \n",
        "        # 드롭아웃(dropout)\n",
        "        self.dropout = nn.Dropout(dropout_ratio)\n",
        "\n",
        "    # 디코더는 현재까지 출력된 문장에 대한 정보를 입력으로 받아 타겟 문장을 반환     \n",
        "    def forward(self, input, hidden, cell):\n",
        "        # input: [배치 크기]: 단어의 개수는 항상 1개이도록 구현\n",
        "        # hidden: [레이어 개수, 배치 크기, 히든 차원]\n",
        "        # cell = context: [레이어 개수, 배치 크기, 히든 차원]\n",
        "        input = input.unsqueeze(0)\n",
        "        # input: [단어 개수 = 1, 배치 크기]\n",
        "        \n",
        "        embedded = self.dropout(self.embedding(input))\n",
        "        # embedded: [단어 개수, 배치 크기, 임베딩 차원]\n",
        "\n",
        "        output, (hidden, cell) = self.rnn(embedded, (hidden, cell))\n",
        "        # output: [단어 개수 = 1, 배치 크기, 히든 차원]: 현재 단어의 출력 정보\n",
        "        # hidden: [레이어 개수, 배치 크기, 히든 차원]: 현재까지의 모든 단어의 정보\n",
        "        # cell: [레이어 개수, 배치 크기, 히든 차원]: 현재까지의 모든 단어의 정보\n",
        "\n",
        "        # 단어 개수는 어차피 1개이므로 차원 제거\n",
        "        prediction = self.fc_out(output.squeeze(0))\n",
        "        # prediction = [배치 크기, 출력 차원]\n",
        "        \n",
        "        # (현재 출력 단어, 현재까지의 모든 단어의 정보, 현재까지의 모든 단어의 정보)\n",
        "        return prediction, hidden, cell"
      ],
      "metadata": {
        "id": "wb315G8zzhi3"
      },
      "execution_count": null,
      "outputs": []
    },
    {
      "cell_type": "markdown",
      "source": [
        "## Seq2Seq\n",
        "- 인코더 : 주어진 소스 문장을 문맥 벡터로 인코딩\n",
        "- 디코더 : 주어진 문맥 벡터를 타겟 문장으로 디코딩\n",
        "\n",
        "- Teacher Forcing : 디코더의 예측을 다음 입력으로 사용 X, 실제 목표을 다음 입력으로 사용\n"
      ],
      "metadata": {
        "id": "91OgWXDq1Z6B"
      }
    },
    {
      "cell_type": "code",
      "source": [
        "class Seq2Seq(nn.Module):\n",
        "    def __init__(self, encoder, decoder, device):\n",
        "        super().__init__()\n",
        "\n",
        "        self.encoder = encoder\n",
        "        self.decoder = decoder\n",
        "        self.device = device\n",
        "\n",
        "    # 학습할 때는 완전한 형태의 소스 문장, 타겟 문장, teacher_forcing_ratio를 넣기\n",
        "    def forward(self, src, trg, teacher_forcing_ratio=0.5):\n",
        "        # src: [단어 개수, 배치 크기]\n",
        "        # trg: [단어 개수, 배치 크기]\n",
        "        # 먼저 인코더를 거쳐 문맥 벡터(context vector)를 추출\n",
        "        hidden, cell = self.encoder(src)\n",
        "\n",
        "        # 디코더(decoder)의 최종 결과를 담을 텐서 객체 만들기\n",
        "        trg_len = trg.shape[0] # 단어 개수\n",
        "        batch_size = trg.shape[1] # 배치 크기\n",
        "        trg_vocab_size = self.decoder.output_dim # 출력 차원\n",
        "        outputs = torch.zeros(trg_len, batch_size, trg_vocab_size).to(self.device)\n",
        "\n",
        "        # 첫 번째 입력은 항상 <sos> 토큰\n",
        "        input = trg[0, :]\n",
        "        \n",
        "\n",
        "        # 타겟 단어의 개수만큼 반복하여 디코더에 포워딩(forwarding)\n",
        "        for t in range(1, trg_len):\n",
        "            output, hidden, cell = self.decoder(input, hidden, cell)\n",
        "\n",
        "            outputs[t] = output # FC를 거쳐서 나온 현재의 출력 단어 정보\n",
        "            top1 = output.argmax(1) # 가장 확률이 높은 단어의 인덱스 추출\n",
        "\n",
        "            # teacher_forcing_ratio: 학습할 때 실제 목표 출력(ground-truth)을 사용하는 비율\n",
        "            teacher_force = random.random() < teacher_forcing_ratio\n",
        "            input = trg[t] if teacher_force else top1 # 현재의 출력 결과를 다음 입력에서 넣기\n",
        "        \n",
        "        return outputs"
      ],
      "metadata": {
        "id": "HQ06ibG61op7"
      },
      "execution_count": null,
      "outputs": []
    },
    {
      "cell_type": "code",
      "source": [
        "INPUT_DIM = len(SRC.vocab)\n",
        "OUTPUT_DIM = len(TRG.vocab)\n",
        "ENCODER_EMBED_DIM = 256\n",
        "DECODER_EMBED_DIM = 256\n",
        "HIDDEN_DIM = 512\n",
        "N_LAYERS = 2\n",
        "ENC_DROPOUT_RATIO = 0.5\n",
        "DEC_DROPOUT_RATIO = 0.5"
      ],
      "metadata": {
        "id": "qSgNqyQb7MAY"
      },
      "execution_count": null,
      "outputs": []
    },
    {
      "cell_type": "code",
      "source": [
        "# 인코더(encoder)와 디코더(decoder) 객체 선언\n",
        "enc = Encoder(INPUT_DIM, ENCODER_EMBED_DIM, HIDDEN_DIM, N_LAYERS, ENC_DROPOUT_RATIO)\n",
        "dec = Decoder(OUTPUT_DIM, DECODER_EMBED_DIM, HIDDEN_DIM, N_LAYERS, DEC_DROPOUT_RATIO)\n",
        "\n",
        "# Seq2Seq 객체 선언\n",
        "model = Seq2Seq(enc, dec, device).to(device)"
      ],
      "metadata": {
        "id": "8PrntPuJ7NDp"
      },
      "execution_count": null,
      "outputs": []
    },
    {
      "cell_type": "code",
      "source": [
        "def init_weights(m):\n",
        "    for name, param in m.named_parameters():\n",
        "        nn.init.uniform_(param.data, -0.08, 0.08)\n",
        "        \n",
        "model.apply(init_weights)"
      ],
      "metadata": {
        "colab": {
          "base_uri": "https://localhost:8080/"
        },
        "id": "hfy5meq57agG",
        "outputId": "de6b230b-a7b1-4698-ce97-1dc230f8c87f"
      },
      "execution_count": null,
      "outputs": [
        {
          "output_type": "execute_result",
          "data": {
            "text/plain": [
              "Seq2Seq(\n",
              "  (encoder): Encoder(\n",
              "    (embedding): Embedding(7873, 256)\n",
              "    (rnn): LSTM(256, 512, num_layers=2, dropout=0.5)\n",
              "    (dropout): Dropout(p=0.5, inplace=False)\n",
              "  )\n",
              "  (decoder): Decoder(\n",
              "    (embedding): Embedding(5923, 256)\n",
              "    (rnn): LSTM(256, 512, num_layers=2, dropout=0.5)\n",
              "    (fc_out): Linear(in_features=512, out_features=5923, bias=True)\n",
              "    (dropout): Dropout(p=0.5, inplace=False)\n",
              "  )\n",
              ")"
            ]
          },
          "metadata": {},
          "execution_count": 65
        }
      ]
    },
    {
      "cell_type": "code",
      "source": [
        "import torch.optim as optim\n",
        "\n",
        "# Adam optimizer로 학습 최적화\n",
        "optimizer = optim.Adam(model.parameters())\n",
        "\n",
        "# 뒷 부분의 패딩(padding)에 대해서는 값 무시\n",
        "TRG_PAD_IDX = TRG.vocab.stoi[TRG.pad_token]\n",
        "criterion = nn.CrossEntropyLoss(ignore_index=TRG_PAD_IDX)"
      ],
      "metadata": {
        "id": "NBEWhRMi8uC7"
      },
      "execution_count": null,
      "outputs": []
    },
    {
      "cell_type": "code",
      "source": [
        "# 모델 학습(train) 함수\n",
        "def train(model, iterator, optimizer, criterion, clip):\n",
        "    model.train() # 학습 모드\n",
        "    epoch_loss = 0\n",
        "    \n",
        "    # 전체 학습 데이터를 확인하며\n",
        "    for i, batch in enumerate(iterator):\n",
        "        src = batch.src\n",
        "        trg = batch.trg\n",
        "        \n",
        "        optimizer.zero_grad()\n",
        "\n",
        "        output = model(src, trg)\n",
        "        # output: [출력 단어 개수, 배치 크기, 출력 차원]\n",
        "        output_dim = output.shape[-1]\n",
        "        \n",
        "        # 출력 단어의 인덱스 0은 사용하지 않음\n",
        "        output = output[1:].view(-1, output_dim)\n",
        "        # output = [(출력 단어의 개수 - 1) * batch size, output dim]\n",
        "        trg = trg[1:].view(-1)\n",
        "        # trg = [(타겟 단어의 개수 - 1) * batch size]\n",
        "        \n",
        "        # 모델의 출력 결과와 타겟 문장을 비교하여 손실 계산\n",
        "        loss = criterion(output, trg)\n",
        "        loss.backward() # 기울기(gradient) 계산\n",
        "        \n",
        "        # 기울기(gradient) clipping 진행\n",
        "        torch.nn.utils.clip_grad_norm_(model.parameters(), clip)\n",
        "        \n",
        "        # 파라미터 업데이트\n",
        "        optimizer.step()\n",
        "        \n",
        "        # 전체 손실 값 계산\n",
        "        epoch_loss += loss.item()\n",
        "        \n",
        "    return epoch_loss / len(iterator)"
      ],
      "metadata": {
        "id": "oJd1aPff8vuG"
      },
      "execution_count": null,
      "outputs": []
    },
    {
      "cell_type": "code",
      "source": [
        "# 모델 평가(evaluate) 함수\n",
        "def evaluate(model, iterator, criterion):\n",
        "    model.eval() # 평가 모드\n",
        "    epoch_loss = 0\n",
        "    \n",
        "    with torch.no_grad():\n",
        "        # 전체 평가 데이터를 확인하며\n",
        "        for i, batch in enumerate(iterator):\n",
        "            src = batch.src\n",
        "            trg = batch.trg\n",
        "\n",
        "            # 평가할 때 teacher forcing는 사용하지 않음\n",
        "            output = model(src, trg, 0)\n",
        "            # output: [출력 단어 개수, 배치 크기, 출력 차원]\n",
        "            output_dim = output.shape[-1]\n",
        "            \n",
        "            # 출력 단어의 인덱스 0은 사용하지 않음\n",
        "            output = output[1:].view(-1, output_dim)\n",
        "            # output = [(출력 단어의 개수 - 1) * batch size, output dim]\n",
        "            trg = trg[1:].view(-1)\n",
        "            # trg = [(타겟 단어의 개수 - 1) * batch size]\n",
        "\n",
        "            # 모델의 출력 결과와 타겟 문장을 비교하여 손실 계산\n",
        "            loss = criterion(output, trg)\n",
        "\n",
        "            # 전체 손실 값 계산\n",
        "            epoch_loss += loss.item()\n",
        "        \n",
        "    return epoch_loss / len(iterator)"
      ],
      "metadata": {
        "id": "3cdo5u6J8yCm"
      },
      "execution_count": null,
      "outputs": []
    },
    {
      "cell_type": "code",
      "source": [
        "def epoch_time(start_time, end_time):\n",
        "    elapsed_time = end_time - start_time\n",
        "    elapsed_mins = int(elapsed_time / 60)\n",
        "    elapsed_secs = int(elapsed_time - (elapsed_mins * 60))\n",
        "    return elapsed_mins, elapsed_secs"
      ],
      "metadata": {
        "id": "dNjm1NFD803o"
      },
      "execution_count": null,
      "outputs": []
    },
    {
      "cell_type": "code",
      "source": [
        "import time\n",
        "import math\n",
        "import random\n",
        "\n",
        "N_EPOCHS = 20\n",
        "CLIP = 1\n",
        "best_valid_loss = float('inf')\n",
        "\n",
        "for epoch in range(N_EPOCHS):\n",
        "    start_time = time.time() # 시작 시간 기록\n",
        "\n",
        "    train_loss = train(model, train_iterator, optimizer, criterion, CLIP)\n",
        "    valid_loss = evaluate(model, valid_iterator, criterion)\n",
        "\n",
        "    end_time = time.time() # 종료 시간 기록\n",
        "    epoch_mins, epoch_secs = epoch_time(start_time, end_time)\n",
        "\n",
        "    if valid_loss < best_valid_loss:\n",
        "        best_valid_loss = valid_loss\n",
        "        torch.save(model.state_dict(), 'seq2seq.pt')\n",
        "\n",
        "    print(f'Epoch: {epoch + 1:02} | Time: {epoch_mins}m {epoch_secs}s')\n",
        "    print(f'\\tTrain Loss: {train_loss:.3f} | Train PPL: {math.exp(train_loss):.3f}')\n",
        "    print(f'\\tValidation Loss: {valid_loss:.3f} | Validation PPL: {math.exp(valid_loss):.3f}')"
      ],
      "metadata": {
        "id": "oMlDdSfg81xO"
      },
      "execution_count": null,
      "outputs": []
    },
    {
      "cell_type": "code",
      "source": [
        ""
      ],
      "metadata": {
        "id": "IHyW89Nd9Xf_"
      },
      "execution_count": null,
      "outputs": []
    }
  ]
}